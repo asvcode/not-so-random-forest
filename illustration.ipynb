{
 "cells": [
  {
   "cell_type": "markdown",
   "metadata": {},
   "source": [
    "# Not So Random Forest\n",
    "### A step-by-step guide to train and run inference on images"
   ]
  },
  {
   "cell_type": "markdown",
   "metadata": {},
   "source": [
    "## Training\n",
    "\n",
    "### 1. RetinaNet\n",
    "\n",
    "It is necessary to install RetinaNet before training on tree annotations. Assuming not-so-random-forest has been cloned to the home directory, RetinaNet can be installed by entering the following command at the command line (without the starting **!**):"
   ]
  },
  {
   "cell_type": "code",
   "execution_count": 3,
   "metadata": {},
   "outputs": [
    {
     "name": "stdout",
     "output_type": "stream",
     "text": [
      "Processing ./models/training/retinanet\n",
      "Requirement already satisfied: keras in /Users/vyettella/anaconda3/envs/insight/lib/python3.6/site-packages (from keras-retinanet==0.3.1) (2.2.0)\n",
      "Requirement already satisfied: keras-resnet in /Users/vyettella/.local/lib/python3.6/site-packages (from keras-retinanet==0.3.1) (0.1.0)\n",
      "Requirement already satisfied: six in /Users/vyettella/anaconda3/envs/insight/lib/python3.6/site-packages (from keras-retinanet==0.3.1) (1.11.0)\n",
      "Requirement already satisfied: scipy in /Users/vyettella/anaconda3/envs/insight/lib/python3.6/site-packages (from keras-retinanet==0.3.1) (1.1.0)\n",
      "Requirement already satisfied: h5py in /Users/vyettella/anaconda3/envs/insight/lib/python3.6/site-packages (from keras->keras-retinanet==0.3.1) (2.8.0)\n",
      "Requirement already satisfied: keras-preprocessing==1.0.1 in /Users/vyettella/anaconda3/envs/insight/lib/python3.6/site-packages (from keras->keras-retinanet==0.3.1) (1.0.1)\n",
      "Requirement already satisfied: keras-applications==1.0.2 in /Users/vyettella/anaconda3/envs/insight/lib/python3.6/site-packages (from keras->keras-retinanet==0.3.1) (1.0.2)\n",
      "Requirement already satisfied: numpy>=1.9.1 in /Users/vyettella/anaconda3/envs/insight/lib/python3.6/site-packages (from keras->keras-retinanet==0.3.1) (1.14.3)\n",
      "Requirement already satisfied: pyyaml in /Users/vyettella/anaconda3/envs/insight/lib/python3.6/site-packages (from keras->keras-retinanet==0.3.1) (3.12)\n",
      "Building wheels for collected packages: keras-retinanet\n",
      "  Running setup.py bdist_wheel for keras-retinanet ... \u001b[?25ldone\n",
      "\u001b[?25h  Stored in directory: /private/var/folders/r2/m0bvt3r11cg5mpfz3jmrs4f80000gp/T/pip-ephem-wheel-cache-jhjr2nbv/wheels/f3/46/6d/6387a80e9e5782e28a3dde9fb43e5ca931baaab2f90576e9c3\n",
      "Successfully built keras-retinanet\n",
      "Installing collected packages: keras-retinanet\n",
      "  Found existing installation: keras-retinanet 0.3.1\n",
      "    Uninstalling keras-retinanet-0.3.1:\n",
      "      Successfully uninstalled keras-retinanet-0.3.1\n",
      "\u001b[33m  The scripts retinanet-convert-model, retinanet-debug, retinanet-evaluate and retinanet-train are installed in '/Users/vyettella/.local/bin' which is not on PATH.\n",
      "  Consider adding this directory to PATH or, if you prefer to suppress this warning, use --no-warn-script-location.\u001b[0m\n",
      "Successfully installed keras-retinanet-0.3.1\n"
     ]
    }
   ],
   "source": [
    "!pip install ~/not-so-random-forest/models/training/retinanet/ --user"
   ]
  },
  {
   "cell_type": "markdown",
   "metadata": {},
   "source": [
    "For training RetinaNet on custom images, we need images as well as the annotations of objects of interest found in the images in CSV format. I trained RetinaNet on tree annotations derived from 300 street view images. These images as well as associated tree annotations may be downloaded as a .zip file from [dropbox](https://www.dropbox.com/s/uca05wzwkhe631y/annotations.zip?dl=0). Assuming that the contents of the zip file have been extracted to "
   ]
  },
  {
   "cell_type": "code",
   "execution_count": null,
   "metadata": {},
   "outputs": [],
   "source": []
  }
 ],
 "metadata": {
  "kernelspec": {
   "display_name": "Python 3",
   "language": "python",
   "name": "python3"
  },
  "language_info": {
   "codemirror_mode": {
    "name": "ipython",
    "version": 3
   },
   "file_extension": ".py",
   "mimetype": "text/x-python",
   "name": "python",
   "nbconvert_exporter": "python",
   "pygments_lexer": "ipython3",
   "version": "3.6.5"
  }
 },
 "nbformat": 4,
 "nbformat_minor": 2
}
