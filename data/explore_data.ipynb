{
 "cells": [
  {
   "cell_type": "code",
   "execution_count": 3,
   "metadata": {},
   "outputs": [],
   "source": [
    "import numpy as np\n",
    "import os\n",
    "import cv2\n",
    "import keras\n",
    "import glob\n",
    "from keras.utils import np_utils\n",
    "from keras.layers import Input, Dense, concatenate, Flatten, Dropout, multiply, BatchNormalization, Activation, GlobalAveragePooling2D, Conv2D, MaxPooling2D\n",
    "from keras.applications.inception_v3 import InceptionV3\n",
    "from keras.models import Model, load_model\n",
    "from keras import backend as K\n",
    "from keras.optimizers import Adam, SGD, RMSprop\n",
    "from keras.initializers import TruncatedNormal, he_normal\n",
    "from keras.callbacks import LearningRateScheduler, ReduceLROnPlateau\n",
    "from random import shuffle"
   ]
  },
  {
   "cell_type": "code",
   "execution_count": 2,
   "metadata": {},
   "outputs": [
    {
     "data": {
      "text/plain": [
       "'/Users/vyettella/Desktop/not-so-random-forest/data'"
      ]
     },
     "execution_count": 2,
     "metadata": {},
     "output_type": "execute_result"
    }
   ],
   "source": [
    "pwd"
   ]
  },
  {
   "cell_type": "code",
   "execution_count": 5,
   "metadata": {},
   "outputs": [
    {
     "data": {
      "text/plain": [
       "['date_palm',\n",
       " 'oak',\n",
       " 'weeping_wattle',\n",
       " 'white_mulberry',\n",
       " '.DS_Store',\n",
       " 'carob',\n",
       " 'golden_rain_tree',\n",
       " 'common_myrtle',\n",
       " 'poplar',\n",
       " 'privet',\n",
       " 'laurel',\n",
       " 'black_locust',\n",
       " 'pine',\n",
       " 'oriental_plane',\n",
       " 'eucalyptus',\n",
       " 'persian_lilac',\n",
       " 'judas',\n",
       " 'tree_of_heaven',\n",
       " 'mediterranean_cypress',\n",
       " 'hibiscus',\n",
       " 'olive',\n",
       " 'silky_oak',\n",
       " 'weeping_willow',\n",
       " 'japanese_pagoda']"
      ]
     },
     "execution_count": 5,
     "metadata": {},
     "output_type": "execute_result"
    }
   ],
   "source": [
    "class_folders = os.listdir('./classification_training_data/')\n",
    "class_folders"
   ]
  },
  {
   "cell_type": "code",
   "execution_count": null,
   "metadata": {},
   "outputs": [],
   "source": []
  },
  {
   "cell_type": "code",
   "execution_count": null,
   "metadata": {},
   "outputs": [],
   "source": []
  },
  {
   "cell_type": "code",
   "execution_count": null,
   "metadata": {},
   "outputs": [],
   "source": [
    "willow_folder = \"willow/*.jpg\"\n",
    "autumn_folder = \"autumn/*.jpg\"\n",
    "\n",
    "files_willow = glob.glob(willow_folder) #label=0\n",
    "files_autumn = glob.glob(autumn_folder)\n",
    "print(\"Class 0: {} | Class 1: {}\".format(len(files_willow), len(files_autumn)))\n",
    "dataset = []\n",
    "\n",
    "for fname in files_willow:\n",
    "    dataset.append({\"x\": fname, \"y\": 0})\n",
    "    \n",
    "for i, fname in enumerate(files_autumn):\n",
    "    dataset.append({\"x\": fname, \"y\": 1})\n",
    "    if i == len(files_willow):\n",
    "        break\n",
    "        \n",
    "indexes = [i for i in range(len(dataset))]\n",
    "shuffle(indexes)\n",
    "split_idx = int(len(indexes) * 0.8)\n",
    "train_idx = indexes[0:split_idx]\n",
    "val_idx = indexes[split_idx::]\n",
    "\n",
    "print(\"Size Training set: {} | Valset {}\".format(len(train_idx), len(val_idx)))\n",
    "\n",
    "\n",
    "def generator_xy(batch_sz, dataset, index_set, is_training):\n",
    "    idx = 0 # 'pointer for indexes\n",
    "    while 1:\n",
    "        if is_training:\n",
    "            shuffle(index_set)\n",
    "        x_batch = np.zeros( (batch_sz, 224, 224, 3), dtype=np.float32)\n",
    "        y_batch = np.zeros( (batch_sz, 2), dtype=np.float32)\n",
    "        for row in range(batch_sz):\n",
    "            example = dataset[indexes[idx]]\n",
    "            img_p = example[\"x\"]\n",
    "            y = example[\"y\"]\n",
    "            bgr = cv2.imread(img_p)\n",
    "            bgr = cv2.resize(bgr, (224, 224))\n",
    "            rgb = bgr[:,:,::-1]/255.\n",
    "            x_batch[row] = rgb[:,:,:]\n",
    "            y_batch[row, y] = 1\n",
    "            idx += 1\n",
    "            if (idx > len(indexes)-1):\n",
    "                shuffle(indexes)\n",
    "                idx = 0\n",
    "\n",
    "        yield x_batch, y_batch"
   ]
  }
 ],
 "metadata": {
  "kernelspec": {
   "display_name": "Python 3",
   "language": "python",
   "name": "python3"
  },
  "language_info": {
   "codemirror_mode": {
    "name": "ipython",
    "version": 3
   },
   "file_extension": ".py",
   "mimetype": "text/x-python",
   "name": "python",
   "nbconvert_exporter": "python",
   "pygments_lexer": "ipython3",
   "version": "3.6.5"
  }
 },
 "nbformat": 4,
 "nbformat_minor": 2
}
